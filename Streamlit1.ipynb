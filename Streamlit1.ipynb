{
  "nbformat": 4,
  "nbformat_minor": 0,
  "metadata": {
    "colab": {
      "provenance": [],
      "authorship_tag": "ABX9TyP811Upa7eNpILgWdLIsh+O",
      "include_colab_link": true
    },
    "kernelspec": {
      "name": "python3",
      "display_name": "Python 3"
    },
    "language_info": {
      "name": "python"
    }
  },
  "cells": [
    {
      "cell_type": "markdown",
      "metadata": {
        "id": "view-in-github",
        "colab_type": "text"
      },
      "source": [
        "<a href=\"https://colab.research.google.com/github/Yicheng-1215/streamlit-dashboard-enhanced/blob/main/Streamlit1.ipynb\" target=\"_parent\"><img src=\"https://colab.research.google.com/assets/colab-badge.svg\" alt=\"Open In Colab\"/></a>"
      ]
    },
    {
      "cell_type": "code",
      "execution_count": 100,
      "metadata": {
        "colab": {
          "base_uri": "https://localhost:8080/"
        },
        "id": "UY2Me6Khqa22",
        "outputId": "a4937317-a1cd-478d-dacc-71367811de9f"
      },
      "outputs": [
        {
          "output_type": "stream",
          "name": "stdout",
          "text": [
            "Cloning into 'streamlit-dashboard-enhanced'...\n",
            "remote: Enumerating objects: 51, done.\u001b[K\n",
            "remote: Counting objects: 100% (45/45), done.\u001b[K\n",
            "remote: Compressing objects: 100% (43/43), done.\u001b[K\n",
            "remote: Total 51 (delta 25), reused 1 (delta 1), pack-reused 6 (from 1)\u001b[K\n",
            "Receiving objects: 100% (51/51), 21.95 KiB | 10.98 MiB/s, done.\n",
            "Resolving deltas: 100% (25/25), done.\n",
            "/content/streamlit-dashboard-enhanced/streamlit-dashboard-enhanced/streamlit-dashboard-enhanced/streamlit-dashboard-enhanced/streamlit-dashboard-enhanced/streamlit-dashboard-enhanced/streamlit-dashboard-enhanced/streamlit-dashboard-enhanced/streamlit-dashboard-enhanced/streamlit-dashboard-enhanced/streamlit-dashboard-enhanced\n"
          ]
        }
      ],
      "source": [
        "!git clone https://github.com/Yicheng-1215/streamlit-dashboard-enhanced\n",
        "%cd streamlit-dashboard-enhanced"
      ]
    },
    {
      "cell_type": "code",
      "source": [
        "!pkill -f ngrok\n",
        "!rm -f /root/.config/ngrok/ngrok.yml\n",
        "!ngrok config add-authtoken 2pG1bRy5blzuFVpGdNyaIe7kAKH_2JDG3pwLtiAxC4r8saG5x\n",
        "\n",
        "from pyngrok import ngrok\n",
        "\n",
        "# Start a tunnel to port 8501\n",
        "public_url = ngrok.connect(addr=\"8501\", proto=\"http\")\n",
        "print(f\"Public URL: {public_url}\")\n",
        "\n",
        "!streamlit run dashboard.py &>/content/logs.txt &\n",
        "\n"
      ],
      "metadata": {
        "colab": {
          "base_uri": "https://localhost:8080/"
        },
        "id": "oJS7Fqg6rbBk",
        "outputId": "19dd3422-b7a1-4bb2-e0c5-a045d32824dd"
      },
      "execution_count": 104,
      "outputs": [
        {
          "output_type": "stream",
          "name": "stdout",
          "text": [
            "Authtoken saved to configuration file: /root/.config/ngrok/ngrok.yml\n",
            "Public URL: NgrokTunnel: \"https://7e79-34-125-182-173.ngrok-free.app\" -> \"http://localhost:8501\"\n"
          ]
        }
      ]
    }
  ]
}