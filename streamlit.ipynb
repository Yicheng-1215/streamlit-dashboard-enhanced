{
  "nbformat": 4,
  "nbformat_minor": 0,
  "metadata": {
    "colab": {
      "provenance": [],
      "authorship_tag": "ABX9TyN6yYQjaqcjt2Bo0FyOs0hB",
      "include_colab_link": true
    },
    "kernelspec": {
      "name": "python3",
      "display_name": "Python 3"
    },
    "language_info": {
      "name": "python"
    }
  },
  "cells": [
    {
      "cell_type": "markdown",
      "metadata": {
        "id": "view-in-github",
        "colab_type": "text"
      },
      "source": [
        "<a href=\"https://colab.research.google.com/github/Yicheng-1215/streamlit-dashboard-enhanced/blob/main/streamlit.ipynb\" target=\"_parent\"><img src=\"https://colab.research.google.com/assets/colab-badge.svg\" alt=\"Open In Colab\"/></a>"
      ]
    },
    {
      "cell_type": "code",
      "execution_count": 76,
      "metadata": {
        "colab": {
          "base_uri": "https://localhost:8080/"
        },
        "id": "UY2Me6Khqa22",
        "outputId": "a1e97964-1ba2-45f9-8f5a-06ba57b4d815"
      },
      "outputs": [
        {
          "output_type": "stream",
          "name": "stdout",
          "text": [
            "Cloning into 'streamlit-dashboard-enhanced'...\n",
            "remote: Enumerating objects: 30, done.\u001b[K\n",
            "remote: Counting objects: 100% (24/24), done.\u001b[K\n",
            "remote: Compressing objects: 100% (22/22), done.\u001b[K\n",
            "remote: Total 30 (delta 13), reused 1 (delta 1), pack-reused 6 (from 1)\u001b[K\n",
            "Receiving objects: 100% (30/30), 14.71 KiB | 7.36 MiB/s, done.\n",
            "Resolving deltas: 100% (13/13), done.\n",
            "/content/streamlit-dashboard-enhanced/streamlit-dashboard-enhanced/streamlit-dashboard-enhanced/streamlit-dashboard-enhanced/streamlit-dashboard-enhanced/streamlit-dashboard-enhanced/streamlit-dashboard-enhanced\n"
          ]
        }
      ],
      "source": [
        "!git clone https://github.com/Yicheng-1215/streamlit-dashboard-enhanced\n",
        "%cd streamlit-dashboard-enhanced"
      ]
    },
    {
      "cell_type": "code",
      "source": [
        "!pkill -f ngrok\n",
        "!rm -f /root/.config/ngrok/ngrok.yml\n",
        "!ngrok config add-authtoken 2pG1bRy5blzuFVpGdNyaIe7kAKH_2JDG3pwLtiAxC4r8saG5x\n",
        "\n",
        "from pyngrok import ngrok\n",
        "\n",
        "# Start a tunnel to port 8501\n",
        "public_url = ngrok.connect(addr=\"8501\", proto=\"http\")\n",
        "print(f\"Public URL: {public_url}\")\n",
        "\n",
        "!streamlit run dashboard.py &>/content/logs.txt &\n"
      ],
      "metadata": {
        "colab": {
          "base_uri": "https://localhost:8080/"
        },
        "id": "pu5si-awvpDe",
        "outputId": "1ddd6256-fbd1-4d8b-e4c7-21d7e71ecf3f"
      },
      "execution_count": 77,
      "outputs": [
        {
          "output_type": "stream",
          "name": "stderr",
          "text": [
            "WARNING:pyngrok.process.ngrok:t=2024-11-23T20:05:16+0000 lvl=warn msg=\"Stopping forwarder\" name=http-8501-cf0f4a46-c654-456b-9663-69479c6eb1fc acceptErr=\"failed to accept connection: Listener closed\"\n",
            "WARNING:pyngrok.process.ngrok:t=2024-11-23T20:05:16+0000 lvl=warn msg=\"Error restarting forwarder\" name=http-8501-cf0f4a46-c654-456b-9663-69479c6eb1fc err=\"failed to start tunnel: session closed\"\n"
          ]
        },
        {
          "output_type": "stream",
          "name": "stdout",
          "text": [
            "Authtoken saved to configuration file: /root/.config/ngrok/ngrok.yml\n",
            "Public URL: NgrokTunnel: \"https://03d2-34-125-182-173.ngrok-free.app\" -> \"http://localhost:8501\"\n"
          ]
        }
      ]
    },
    {
      "cell_type": "code",
      "source": [
        "!streamlit run dashboard.py &>/content/logs.txt &\n"
      ],
      "metadata": {
        "id": "RdcJNwg3oFZM"
      },
      "execution_count": 74,
      "outputs": []
    }
  ]
}